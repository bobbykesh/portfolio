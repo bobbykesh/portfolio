{
 "cells": [
  {
   "cell_type": "code",
   "execution_count": 76,
   "id": "53e45245-52ad-4d90-a52b-6ce47e786700",
   "metadata": {},
   "outputs": [],
   "source": [
    "import pandas as pd \n",
    "import matplotlib.pyplot as plt "
   ]
  },
  {
   "cell_type": "code",
   "execution_count": 77,
   "id": "b096a8f0-6fbe-4ed4-8eb1-b8f08db7362f",
   "metadata": {},
   "outputs": [],
   "source": [
    "data = pd.read_csv(r'C:\\Users\\ADMIN\\Desktop\\projects\\Airline+Loyalty+Program\\Customer Loyalty History.csv')"
   ]
  },
  {
   "cell_type": "code",
   "execution_count": 78,
   "id": "aaaae4ea",
   "metadata": {},
   "outputs": [],
   "source": [
    "data_copy = data.copy()"
   ]
  },
  {
   "cell_type": "code",
   "execution_count": 79,
   "id": "a682b78c-df01-4cd6-aadf-c35cb59aef51",
   "metadata": {},
   "outputs": [
    {
     "data": {
      "text/html": [
       "<div>\n",
       "<style scoped>\n",
       "    .dataframe tbody tr th:only-of-type {\n",
       "        vertical-align: middle;\n",
       "    }\n",
       "\n",
       "    .dataframe tbody tr th {\n",
       "        vertical-align: top;\n",
       "    }\n",
       "\n",
       "    .dataframe thead th {\n",
       "        text-align: right;\n",
       "    }\n",
       "</style>\n",
       "<table border=\"1\" class=\"dataframe\">\n",
       "  <thead>\n",
       "    <tr style=\"text-align: right;\">\n",
       "      <th></th>\n",
       "      <th>loyalty_number</th>\n",
       "      <th>country</th>\n",
       "      <th>province</th>\n",
       "      <th>city</th>\n",
       "      <th>postal_code</th>\n",
       "      <th>gender</th>\n",
       "      <th>education</th>\n",
       "      <th>salary</th>\n",
       "      <th>marital_status</th>\n",
       "      <th>loyalty_card</th>\n",
       "      <th>clv</th>\n",
       "      <th>enrollment_type</th>\n",
       "      <th>enrollment_year</th>\n",
       "      <th>enrollment_month</th>\n",
       "      <th>cancellation_year</th>\n",
       "      <th>cancellation_month</th>\n",
       "    </tr>\n",
       "  </thead>\n",
       "  <tbody>\n",
       "    <tr>\n",
       "      <th>0</th>\n",
       "      <td>480934</td>\n",
       "      <td>Canada</td>\n",
       "      <td>Ontario</td>\n",
       "      <td>Toronto</td>\n",
       "      <td>M2Z 4K1</td>\n",
       "      <td>Female</td>\n",
       "      <td>Bachelor</td>\n",
       "      <td>83236.0</td>\n",
       "      <td>Married</td>\n",
       "      <td>Star</td>\n",
       "      <td>3839.14</td>\n",
       "      <td>Standard</td>\n",
       "      <td>2016</td>\n",
       "      <td>2</td>\n",
       "      <td>NaN</td>\n",
       "      <td>NaN</td>\n",
       "    </tr>\n",
       "    <tr>\n",
       "      <th>1</th>\n",
       "      <td>549612</td>\n",
       "      <td>Canada</td>\n",
       "      <td>Alberta</td>\n",
       "      <td>Edmonton</td>\n",
       "      <td>T3G 6Y6</td>\n",
       "      <td>Male</td>\n",
       "      <td>College</td>\n",
       "      <td>NaN</td>\n",
       "      <td>Divorced</td>\n",
       "      <td>Star</td>\n",
       "      <td>3839.61</td>\n",
       "      <td>Standard</td>\n",
       "      <td>2016</td>\n",
       "      <td>3</td>\n",
       "      <td>NaN</td>\n",
       "      <td>NaN</td>\n",
       "    </tr>\n",
       "    <tr>\n",
       "      <th>2</th>\n",
       "      <td>429460</td>\n",
       "      <td>Canada</td>\n",
       "      <td>British Columbia</td>\n",
       "      <td>Vancouver</td>\n",
       "      <td>V6E 3D9</td>\n",
       "      <td>Male</td>\n",
       "      <td>College</td>\n",
       "      <td>NaN</td>\n",
       "      <td>Single</td>\n",
       "      <td>Star</td>\n",
       "      <td>3839.75</td>\n",
       "      <td>Standard</td>\n",
       "      <td>2014</td>\n",
       "      <td>7</td>\n",
       "      <td>2018.0</td>\n",
       "      <td>1.0</td>\n",
       "    </tr>\n",
       "    <tr>\n",
       "      <th>3</th>\n",
       "      <td>608370</td>\n",
       "      <td>Canada</td>\n",
       "      <td>Ontario</td>\n",
       "      <td>Toronto</td>\n",
       "      <td>P1W 1K4</td>\n",
       "      <td>Male</td>\n",
       "      <td>College</td>\n",
       "      <td>NaN</td>\n",
       "      <td>Single</td>\n",
       "      <td>Star</td>\n",
       "      <td>3839.75</td>\n",
       "      <td>Standard</td>\n",
       "      <td>2013</td>\n",
       "      <td>2</td>\n",
       "      <td>NaN</td>\n",
       "      <td>NaN</td>\n",
       "    </tr>\n",
       "    <tr>\n",
       "      <th>4</th>\n",
       "      <td>530508</td>\n",
       "      <td>Canada</td>\n",
       "      <td>Quebec</td>\n",
       "      <td>Hull</td>\n",
       "      <td>J8Y 3Z5</td>\n",
       "      <td>Male</td>\n",
       "      <td>Bachelor</td>\n",
       "      <td>103495.0</td>\n",
       "      <td>Married</td>\n",
       "      <td>Star</td>\n",
       "      <td>3842.79</td>\n",
       "      <td>Standard</td>\n",
       "      <td>2014</td>\n",
       "      <td>10</td>\n",
       "      <td>NaN</td>\n",
       "      <td>NaN</td>\n",
       "    </tr>\n",
       "    <tr>\n",
       "      <th>5</th>\n",
       "      <td>193662</td>\n",
       "      <td>Canada</td>\n",
       "      <td>Yukon</td>\n",
       "      <td>Whitehorse</td>\n",
       "      <td>Y2K 6R0</td>\n",
       "      <td>Male</td>\n",
       "      <td>Bachelor</td>\n",
       "      <td>51124.0</td>\n",
       "      <td>Married</td>\n",
       "      <td>Star</td>\n",
       "      <td>3844.57</td>\n",
       "      <td>Standard</td>\n",
       "      <td>2012</td>\n",
       "      <td>5</td>\n",
       "      <td>NaN</td>\n",
       "      <td>NaN</td>\n",
       "    </tr>\n",
       "    <tr>\n",
       "      <th>6</th>\n",
       "      <td>927943</td>\n",
       "      <td>Canada</td>\n",
       "      <td>Ontario</td>\n",
       "      <td>Toronto</td>\n",
       "      <td>P5S 6R4</td>\n",
       "      <td>Female</td>\n",
       "      <td>College</td>\n",
       "      <td>NaN</td>\n",
       "      <td>Single</td>\n",
       "      <td>Star</td>\n",
       "      <td>3857.95</td>\n",
       "      <td>Standard</td>\n",
       "      <td>2014</td>\n",
       "      <td>6</td>\n",
       "      <td>NaN</td>\n",
       "      <td>NaN</td>\n",
       "    </tr>\n",
       "    <tr>\n",
       "      <th>7</th>\n",
       "      <td>188893</td>\n",
       "      <td>Canada</td>\n",
       "      <td>Ontario</td>\n",
       "      <td>Trenton</td>\n",
       "      <td>K8V 4B2</td>\n",
       "      <td>Male</td>\n",
       "      <td>Bachelor</td>\n",
       "      <td>100159.0</td>\n",
       "      <td>Married</td>\n",
       "      <td>Star</td>\n",
       "      <td>3861.49</td>\n",
       "      <td>Standard</td>\n",
       "      <td>2016</td>\n",
       "      <td>12</td>\n",
       "      <td>NaN</td>\n",
       "      <td>NaN</td>\n",
       "    </tr>\n",
       "    <tr>\n",
       "      <th>8</th>\n",
       "      <td>852392</td>\n",
       "      <td>Canada</td>\n",
       "      <td>Quebec</td>\n",
       "      <td>Montreal</td>\n",
       "      <td>H2Y 2W2</td>\n",
       "      <td>Female</td>\n",
       "      <td>Bachelor</td>\n",
       "      <td>100159.0</td>\n",
       "      <td>Married</td>\n",
       "      <td>Star</td>\n",
       "      <td>3861.49</td>\n",
       "      <td>Standard</td>\n",
       "      <td>2015</td>\n",
       "      <td>5</td>\n",
       "      <td>NaN</td>\n",
       "      <td>NaN</td>\n",
       "    </tr>\n",
       "    <tr>\n",
       "      <th>9</th>\n",
       "      <td>866307</td>\n",
       "      <td>Canada</td>\n",
       "      <td>Ontario</td>\n",
       "      <td>Toronto</td>\n",
       "      <td>M8Y 4K8</td>\n",
       "      <td>Male</td>\n",
       "      <td>Bachelor</td>\n",
       "      <td>100159.0</td>\n",
       "      <td>Married</td>\n",
       "      <td>Star</td>\n",
       "      <td>3861.49</td>\n",
       "      <td>Standard</td>\n",
       "      <td>2016</td>\n",
       "      <td>10</td>\n",
       "      <td>NaN</td>\n",
       "      <td>NaN</td>\n",
       "    </tr>\n",
       "  </tbody>\n",
       "</table>\n",
       "</div>"
      ],
      "text/plain": [
       "   loyalty_number country          province        city postal_code  gender  \\\n",
       "0          480934  Canada           Ontario     Toronto     M2Z 4K1  Female   \n",
       "1          549612  Canada           Alberta    Edmonton     T3G 6Y6    Male   \n",
       "2          429460  Canada  British Columbia   Vancouver     V6E 3D9    Male   \n",
       "3          608370  Canada           Ontario     Toronto     P1W 1K4    Male   \n",
       "4          530508  Canada            Quebec        Hull     J8Y 3Z5    Male   \n",
       "5          193662  Canada             Yukon  Whitehorse     Y2K 6R0    Male   \n",
       "6          927943  Canada           Ontario     Toronto     P5S 6R4  Female   \n",
       "7          188893  Canada           Ontario     Trenton     K8V 4B2    Male   \n",
       "8          852392  Canada            Quebec    Montreal     H2Y 2W2  Female   \n",
       "9          866307  Canada           Ontario     Toronto     M8Y 4K8    Male   \n",
       "\n",
       "  education    salary marital_status loyalty_card      clv enrollment_type  \\\n",
       "0  Bachelor   83236.0        Married         Star  3839.14        Standard   \n",
       "1   College       NaN       Divorced         Star  3839.61        Standard   \n",
       "2   College       NaN         Single         Star  3839.75        Standard   \n",
       "3   College       NaN         Single         Star  3839.75        Standard   \n",
       "4  Bachelor  103495.0        Married         Star  3842.79        Standard   \n",
       "5  Bachelor   51124.0        Married         Star  3844.57        Standard   \n",
       "6   College       NaN         Single         Star  3857.95        Standard   \n",
       "7  Bachelor  100159.0        Married         Star  3861.49        Standard   \n",
       "8  Bachelor  100159.0        Married         Star  3861.49        Standard   \n",
       "9  Bachelor  100159.0        Married         Star  3861.49        Standard   \n",
       "\n",
       "   enrollment_year  enrollment_month  cancellation_year  cancellation_month  \n",
       "0             2016                 2                NaN                 NaN  \n",
       "1             2016                 3                NaN                 NaN  \n",
       "2             2014                 7             2018.0                 1.0  \n",
       "3             2013                 2                NaN                 NaN  \n",
       "4             2014                10                NaN                 NaN  \n",
       "5             2012                 5                NaN                 NaN  \n",
       "6             2014                 6                NaN                 NaN  \n",
       "7             2016                12                NaN                 NaN  \n",
       "8             2015                 5                NaN                 NaN  \n",
       "9             2016                10                NaN                 NaN  "
      ]
     },
     "execution_count": 79,
     "metadata": {},
     "output_type": "execute_result"
    }
   ],
   "source": [
    "data_copy.columns = data_copy.columns.str.replace(' ','_').str.lower()\n",
    "data_copy.head(10)"
   ]
  },
  {
   "cell_type": "code",
   "execution_count": 80,
   "id": "a072adc7-5475-4b90-9804-741a9ded4b52",
   "metadata": {},
   "outputs": [
    {
     "data": {
      "text/plain": [
       "loyalty_number          int64\n",
       "country                object\n",
       "province               object\n",
       "city                   object\n",
       "postal_code            object\n",
       "gender                 object\n",
       "education              object\n",
       "salary                float64\n",
       "marital_status         object\n",
       "loyalty_card           object\n",
       "clv                   float64\n",
       "enrollment_type        object\n",
       "enrollment_year         int64\n",
       "enrollment_month        int64\n",
       "cancellation_year     float64\n",
       "cancellation_month    float64\n",
       "dtype: object"
      ]
     },
     "execution_count": 80,
     "metadata": {},
     "output_type": "execute_result"
    }
   ],
   "source": [
    "data_copy.dtypes"
   ]
  },
  {
   "cell_type": "code",
   "execution_count": 81,
   "id": "e398cd91-535b-45ba-8ddc-6fad6fbba9bb",
   "metadata": {},
   "outputs": [
    {
     "data": {
      "text/plain": [
       "loyalty_number            0\n",
       "country                   0\n",
       "province                  0\n",
       "city                      0\n",
       "postal_code               0\n",
       "gender                    0\n",
       "education                 0\n",
       "salary                 4238\n",
       "marital_status            0\n",
       "loyalty_card              0\n",
       "clv                       0\n",
       "enrollment_type           0\n",
       "enrollment_year           0\n",
       "enrollment_month          0\n",
       "cancellation_year     14670\n",
       "cancellation_month    14670\n",
       "dtype: int64"
      ]
     },
     "execution_count": 81,
     "metadata": {},
     "output_type": "execute_result"
    }
   ],
   "source": [
    "data_copy.isnull().sum()"
   ]
  },
  {
   "cell_type": "code",
   "execution_count": 82,
   "id": "1032f462-5b66-4d8f-8a52-021ff7ff44e6",
   "metadata": {},
   "outputs": [
    {
     "data": {
      "text/plain": [
       "(16737, 16)"
      ]
     },
     "execution_count": 82,
     "metadata": {},
     "output_type": "execute_result"
    }
   ],
   "source": [
    "data_copy.shape"
   ]
  },
  {
   "cell_type": "code",
   "execution_count": 83,
   "id": "f740cc57",
   "metadata": {},
   "outputs": [],
   "source": [
    "data_copy['salary'] = data_copy['salary'].fillna(data_copy['salary'].mean())"
   ]
  },
  {
   "cell_type": "code",
   "execution_count": 84,
   "id": "5636ab02",
   "metadata": {},
   "outputs": [
    {
     "data": {
      "text/html": [
       "<div>\n",
       "<style scoped>\n",
       "    .dataframe tbody tr th:only-of-type {\n",
       "        vertical-align: middle;\n",
       "    }\n",
       "\n",
       "    .dataframe tbody tr th {\n",
       "        vertical-align: top;\n",
       "    }\n",
       "\n",
       "    .dataframe thead th {\n",
       "        text-align: right;\n",
       "    }\n",
       "</style>\n",
       "<table border=\"1\" class=\"dataframe\">\n",
       "  <thead>\n",
       "    <tr style=\"text-align: right;\">\n",
       "      <th></th>\n",
       "      <th>loyalty_number</th>\n",
       "      <th>country</th>\n",
       "      <th>province</th>\n",
       "      <th>city</th>\n",
       "      <th>postal_code</th>\n",
       "      <th>gender</th>\n",
       "      <th>education</th>\n",
       "      <th>salary</th>\n",
       "      <th>marital_status</th>\n",
       "      <th>loyalty_card</th>\n",
       "      <th>clv</th>\n",
       "      <th>enrollment_type</th>\n",
       "      <th>enrollment_year</th>\n",
       "      <th>enrollment_month</th>\n",
       "      <th>cancellation_year</th>\n",
       "      <th>cancellation_month</th>\n",
       "    </tr>\n",
       "  </thead>\n",
       "  <tbody>\n",
       "    <tr>\n",
       "      <th>0</th>\n",
       "      <td>480934</td>\n",
       "      <td>Canada</td>\n",
       "      <td>Ontario</td>\n",
       "      <td>Toronto</td>\n",
       "      <td>M2Z 4K1</td>\n",
       "      <td>Female</td>\n",
       "      <td>Bachelor</td>\n",
       "      <td>83236.000000</td>\n",
       "      <td>Married</td>\n",
       "      <td>Star</td>\n",
       "      <td>3839.14</td>\n",
       "      <td>Standard</td>\n",
       "      <td>2016</td>\n",
       "      <td>2</td>\n",
       "      <td>NaN</td>\n",
       "      <td>NaN</td>\n",
       "    </tr>\n",
       "    <tr>\n",
       "      <th>1</th>\n",
       "      <td>549612</td>\n",
       "      <td>Canada</td>\n",
       "      <td>Alberta</td>\n",
       "      <td>Edmonton</td>\n",
       "      <td>T3G 6Y6</td>\n",
       "      <td>Male</td>\n",
       "      <td>College</td>\n",
       "      <td>79245.609409</td>\n",
       "      <td>Divorced</td>\n",
       "      <td>Star</td>\n",
       "      <td>3839.61</td>\n",
       "      <td>Standard</td>\n",
       "      <td>2016</td>\n",
       "      <td>3</td>\n",
       "      <td>NaN</td>\n",
       "      <td>NaN</td>\n",
       "    </tr>\n",
       "    <tr>\n",
       "      <th>2</th>\n",
       "      <td>429460</td>\n",
       "      <td>Canada</td>\n",
       "      <td>British Columbia</td>\n",
       "      <td>Vancouver</td>\n",
       "      <td>V6E 3D9</td>\n",
       "      <td>Male</td>\n",
       "      <td>College</td>\n",
       "      <td>79245.609409</td>\n",
       "      <td>Single</td>\n",
       "      <td>Star</td>\n",
       "      <td>3839.75</td>\n",
       "      <td>Standard</td>\n",
       "      <td>2014</td>\n",
       "      <td>7</td>\n",
       "      <td>2018.0</td>\n",
       "      <td>1.0</td>\n",
       "    </tr>\n",
       "    <tr>\n",
       "      <th>3</th>\n",
       "      <td>608370</td>\n",
       "      <td>Canada</td>\n",
       "      <td>Ontario</td>\n",
       "      <td>Toronto</td>\n",
       "      <td>P1W 1K4</td>\n",
       "      <td>Male</td>\n",
       "      <td>College</td>\n",
       "      <td>79245.609409</td>\n",
       "      <td>Single</td>\n",
       "      <td>Star</td>\n",
       "      <td>3839.75</td>\n",
       "      <td>Standard</td>\n",
       "      <td>2013</td>\n",
       "      <td>2</td>\n",
       "      <td>NaN</td>\n",
       "      <td>NaN</td>\n",
       "    </tr>\n",
       "    <tr>\n",
       "      <th>4</th>\n",
       "      <td>530508</td>\n",
       "      <td>Canada</td>\n",
       "      <td>Quebec</td>\n",
       "      <td>Hull</td>\n",
       "      <td>J8Y 3Z5</td>\n",
       "      <td>Male</td>\n",
       "      <td>Bachelor</td>\n",
       "      <td>103495.000000</td>\n",
       "      <td>Married</td>\n",
       "      <td>Star</td>\n",
       "      <td>3842.79</td>\n",
       "      <td>Standard</td>\n",
       "      <td>2014</td>\n",
       "      <td>10</td>\n",
       "      <td>NaN</td>\n",
       "      <td>NaN</td>\n",
       "    </tr>\n",
       "    <tr>\n",
       "      <th>...</th>\n",
       "      <td>...</td>\n",
       "      <td>...</td>\n",
       "      <td>...</td>\n",
       "      <td>...</td>\n",
       "      <td>...</td>\n",
       "      <td>...</td>\n",
       "      <td>...</td>\n",
       "      <td>...</td>\n",
       "      <td>...</td>\n",
       "      <td>...</td>\n",
       "      <td>...</td>\n",
       "      <td>...</td>\n",
       "      <td>...</td>\n",
       "      <td>...</td>\n",
       "      <td>...</td>\n",
       "      <td>...</td>\n",
       "    </tr>\n",
       "    <tr>\n",
       "      <th>16732</th>\n",
       "      <td>823768</td>\n",
       "      <td>Canada</td>\n",
       "      <td>British Columbia</td>\n",
       "      <td>Vancouver</td>\n",
       "      <td>V6E 3Z3</td>\n",
       "      <td>Female</td>\n",
       "      <td>College</td>\n",
       "      <td>79245.609409</td>\n",
       "      <td>Married</td>\n",
       "      <td>Star</td>\n",
       "      <td>61850.19</td>\n",
       "      <td>Standard</td>\n",
       "      <td>2012</td>\n",
       "      <td>12</td>\n",
       "      <td>NaN</td>\n",
       "      <td>NaN</td>\n",
       "    </tr>\n",
       "    <tr>\n",
       "      <th>16733</th>\n",
       "      <td>680886</td>\n",
       "      <td>Canada</td>\n",
       "      <td>Saskatchewan</td>\n",
       "      <td>Regina</td>\n",
       "      <td>S1J 3C5</td>\n",
       "      <td>Female</td>\n",
       "      <td>Bachelor</td>\n",
       "      <td>89210.000000</td>\n",
       "      <td>Married</td>\n",
       "      <td>Star</td>\n",
       "      <td>67907.27</td>\n",
       "      <td>Standard</td>\n",
       "      <td>2014</td>\n",
       "      <td>9</td>\n",
       "      <td>NaN</td>\n",
       "      <td>NaN</td>\n",
       "    </tr>\n",
       "    <tr>\n",
       "      <th>16734</th>\n",
       "      <td>776187</td>\n",
       "      <td>Canada</td>\n",
       "      <td>British Columbia</td>\n",
       "      <td>Vancouver</td>\n",
       "      <td>V5R 1W3</td>\n",
       "      <td>Male</td>\n",
       "      <td>College</td>\n",
       "      <td>79245.609409</td>\n",
       "      <td>Single</td>\n",
       "      <td>Star</td>\n",
       "      <td>74228.52</td>\n",
       "      <td>Standard</td>\n",
       "      <td>2014</td>\n",
       "      <td>3</td>\n",
       "      <td>NaN</td>\n",
       "      <td>NaN</td>\n",
       "    </tr>\n",
       "    <tr>\n",
       "      <th>16735</th>\n",
       "      <td>906428</td>\n",
       "      <td>Canada</td>\n",
       "      <td>Yukon</td>\n",
       "      <td>Whitehorse</td>\n",
       "      <td>Y2K 6R0</td>\n",
       "      <td>Male</td>\n",
       "      <td>Bachelor</td>\n",
       "      <td>-57297.000000</td>\n",
       "      <td>Married</td>\n",
       "      <td>Star</td>\n",
       "      <td>10018.66</td>\n",
       "      <td>2018 Promotion</td>\n",
       "      <td>2018</td>\n",
       "      <td>4</td>\n",
       "      <td>NaN</td>\n",
       "      <td>NaN</td>\n",
       "    </tr>\n",
       "    <tr>\n",
       "      <th>16736</th>\n",
       "      <td>652627</td>\n",
       "      <td>Canada</td>\n",
       "      <td>Manitoba</td>\n",
       "      <td>Winnipeg</td>\n",
       "      <td>R2C 0M5</td>\n",
       "      <td>Female</td>\n",
       "      <td>Bachelor</td>\n",
       "      <td>75049.000000</td>\n",
       "      <td>Married</td>\n",
       "      <td>Star</td>\n",
       "      <td>83325.38</td>\n",
       "      <td>Standard</td>\n",
       "      <td>2015</td>\n",
       "      <td>12</td>\n",
       "      <td>2016.0</td>\n",
       "      <td>8.0</td>\n",
       "    </tr>\n",
       "  </tbody>\n",
       "</table>\n",
       "<p>16737 rows × 16 columns</p>\n",
       "</div>"
      ],
      "text/plain": [
       "       loyalty_number country          province        city postal_code  \\\n",
       "0              480934  Canada           Ontario     Toronto     M2Z 4K1   \n",
       "1              549612  Canada           Alberta    Edmonton     T3G 6Y6   \n",
       "2              429460  Canada  British Columbia   Vancouver     V6E 3D9   \n",
       "3              608370  Canada           Ontario     Toronto     P1W 1K4   \n",
       "4              530508  Canada            Quebec        Hull     J8Y 3Z5   \n",
       "...               ...     ...               ...         ...         ...   \n",
       "16732          823768  Canada  British Columbia   Vancouver     V6E 3Z3   \n",
       "16733          680886  Canada      Saskatchewan      Regina     S1J 3C5   \n",
       "16734          776187  Canada  British Columbia   Vancouver     V5R 1W3   \n",
       "16735          906428  Canada             Yukon  Whitehorse     Y2K 6R0   \n",
       "16736          652627  Canada          Manitoba    Winnipeg     R2C 0M5   \n",
       "\n",
       "       gender education         salary marital_status loyalty_card       clv  \\\n",
       "0      Female  Bachelor   83236.000000        Married         Star   3839.14   \n",
       "1        Male   College   79245.609409       Divorced         Star   3839.61   \n",
       "2        Male   College   79245.609409         Single         Star   3839.75   \n",
       "3        Male   College   79245.609409         Single         Star   3839.75   \n",
       "4        Male  Bachelor  103495.000000        Married         Star   3842.79   \n",
       "...       ...       ...            ...            ...          ...       ...   \n",
       "16732  Female   College   79245.609409        Married         Star  61850.19   \n",
       "16733  Female  Bachelor   89210.000000        Married         Star  67907.27   \n",
       "16734    Male   College   79245.609409         Single         Star  74228.52   \n",
       "16735    Male  Bachelor  -57297.000000        Married         Star  10018.66   \n",
       "16736  Female  Bachelor   75049.000000        Married         Star  83325.38   \n",
       "\n",
       "      enrollment_type  enrollment_year  enrollment_month  cancellation_year  \\\n",
       "0            Standard             2016                 2                NaN   \n",
       "1            Standard             2016                 3                NaN   \n",
       "2            Standard             2014                 7             2018.0   \n",
       "3            Standard             2013                 2                NaN   \n",
       "4            Standard             2014                10                NaN   \n",
       "...               ...              ...               ...                ...   \n",
       "16732        Standard             2012                12                NaN   \n",
       "16733        Standard             2014                 9                NaN   \n",
       "16734        Standard             2014                 3                NaN   \n",
       "16735  2018 Promotion             2018                 4                NaN   \n",
       "16736        Standard             2015                12             2016.0   \n",
       "\n",
       "       cancellation_month  \n",
       "0                     NaN  \n",
       "1                     NaN  \n",
       "2                     1.0  \n",
       "3                     NaN  \n",
       "4                     NaN  \n",
       "...                   ...  \n",
       "16732                 NaN  \n",
       "16733                 NaN  \n",
       "16734                 NaN  \n",
       "16735                 NaN  \n",
       "16736                 8.0  \n",
       "\n",
       "[16737 rows x 16 columns]"
      ]
     },
     "execution_count": 84,
     "metadata": {},
     "output_type": "execute_result"
    }
   ],
   "source": [
    "data_copy"
   ]
  },
  {
   "cell_type": "code",
   "execution_count": 85,
   "id": "c0ddb689",
   "metadata": {},
   "outputs": [],
   "source": [
    "\n",
    "data_copy['salary'] = data_copy['salary'].apply(lambda x : round(x,2))"
   ]
  },
  {
   "cell_type": "code",
   "execution_count": 86,
   "id": "9e77679a",
   "metadata": {},
   "outputs": [],
   "source": [
    "data_copy['salary'] = data_copy['salary'].astype(str).str.replace(\"-\",\"\").astype(float)"
   ]
  },
  {
   "cell_type": "code",
   "execution_count": 87,
   "id": "0457ffc5",
   "metadata": {},
   "outputs": [
    {
     "data": {
      "text/plain": [
       "dtype('float64')"
      ]
     },
     "execution_count": 87,
     "metadata": {},
     "output_type": "execute_result"
    }
   ],
   "source": [
    "data_copy['salary'].dtype"
   ]
  },
  {
   "cell_type": "code",
   "execution_count": 88,
   "id": "dd4d2e64",
   "metadata": {},
   "outputs": [
    {
     "data": {
      "text/plain": [
       "array(['Canada'], dtype=object)"
      ]
     },
     "execution_count": 88,
     "metadata": {},
     "output_type": "execute_result"
    }
   ],
   "source": [
    "data_copy['country'].unique()"
   ]
  },
  {
   "cell_type": "code",
   "execution_count": 89,
   "id": "e2f729aa",
   "metadata": {},
   "outputs": [
    {
     "data": {
      "text/plain": [
       "Index(['loyalty_number', 'country', 'province', 'city', 'postal_code',\n",
       "       'gender', 'education', 'salary', 'marital_status', 'loyalty_card',\n",
       "       'clv', 'enrollment_type', 'enrollment_year', 'enrollment_month',\n",
       "       'cancellation_year', 'cancellation_month'],\n",
       "      dtype='object')"
      ]
     },
     "execution_count": 89,
     "metadata": {},
     "output_type": "execute_result"
    }
   ],
   "source": [
    "data_copy.columns"
   ]
  },
  {
   "cell_type": "code",
   "execution_count": 90,
   "id": "c6668e46",
   "metadata": {},
   "outputs": [
    {
     "data": {
      "text/plain": [
       "array(['Ontario', 'Alberta', 'British Columbia', 'Quebec', 'Yukon',\n",
       "       'New Brunswick', 'Manitoba', 'Nova Scotia', 'Saskatchewan',\n",
       "       'Newfoundland', 'Prince Edward Island'], dtype=object)"
      ]
     },
     "execution_count": 90,
     "metadata": {},
     "output_type": "execute_result"
    }
   ],
   "source": [
    "data_copy['province'].unique()"
   ]
  },
  {
   "cell_type": "code",
   "execution_count": 91,
   "id": "403035c3",
   "metadata": {},
   "outputs": [
    {
     "data": {
      "text/plain": [
       "array(['Toronto', 'Edmonton', 'Vancouver', 'Hull', 'Whitehorse',\n",
       "       'Trenton', 'Montreal', 'Dawson Creek', 'Quebec City',\n",
       "       'Fredericton', 'Ottawa', 'Tremblant', 'Calgary', 'Thunder Bay',\n",
       "       'Whistler', 'Peace River', 'Winnipeg', 'Sudbury', 'West Vancouver',\n",
       "       'Halifax', 'London', 'Regina', 'Kelowna', \"St. John's\", 'Victoria',\n",
       "       'Kingston', 'Banff', 'Moncton', 'Charlottetown'], dtype=object)"
      ]
     },
     "execution_count": 91,
     "metadata": {},
     "output_type": "execute_result"
    }
   ],
   "source": [
    "data_copy['city'].unique()"
   ]
  },
  {
   "cell_type": "code",
   "execution_count": 92,
   "id": "98ba9e26",
   "metadata": {},
   "outputs": [
    {
     "data": {
      "text/plain": [
       "array(['Female', 'Male'], dtype=object)"
      ]
     },
     "execution_count": 92,
     "metadata": {},
     "output_type": "execute_result"
    }
   ],
   "source": [
    "data_copy['gender'].unique()"
   ]
  },
  {
   "cell_type": "code",
   "execution_count": 93,
   "id": "d2afa1d4",
   "metadata": {},
   "outputs": [
    {
     "data": {
      "text/plain": [
       "array(['Married', 'Divorced', 'Single'], dtype=object)"
      ]
     },
     "execution_count": 93,
     "metadata": {},
     "output_type": "execute_result"
    }
   ],
   "source": [
    "data_copy['marital_status'].unique()"
   ]
  },
  {
   "cell_type": "code",
   "execution_count": 94,
   "id": "acb61289",
   "metadata": {},
   "outputs": [
    {
     "data": {
      "text/plain": [
       "array(['Standard', '2018 Promotion'], dtype=object)"
      ]
     },
     "execution_count": 94,
     "metadata": {},
     "output_type": "execute_result"
    }
   ],
   "source": [
    "data_copy['enrollment_type'].unique()"
   ]
  },
  {
   "cell_type": "code",
   "execution_count": 103,
   "id": "e1b6ecb6",
   "metadata": {},
   "outputs": [],
   "source": [
    "\n",
    "data_copy['cancellation_month'] = data_copy['cancellation_month'].fillna(0)\n",
    "data_copy['cancellation_year'] = data_copy['cancellation_year'].fillna(0)"
   ]
  },
  {
   "cell_type": "code",
   "execution_count": 96,
   "id": "61e821b4",
   "metadata": {},
   "outputs": [
    {
     "data": {
      "text/plain": [
       "loyalty_number            0\n",
       "country                   0\n",
       "province                  0\n",
       "city                      0\n",
       "postal_code               0\n",
       "gender                    0\n",
       "education                 0\n",
       "salary                    0\n",
       "marital_status            0\n",
       "loyalty_card              0\n",
       "clv                       0\n",
       "enrollment_type           0\n",
       "enrollment_year           0\n",
       "enrollment_month          0\n",
       "cancellation_year     14670\n",
       "cancellation_month    14670\n",
       "dtype: int64"
      ]
     },
     "execution_count": 96,
     "metadata": {},
     "output_type": "execute_result"
    }
   ],
   "source": [
    "data_copy.isnull().sum()"
   ]
  },
  {
   "cell_type": "code",
   "execution_count": 97,
   "id": "4c5182e9",
   "metadata": {},
   "outputs": [
    {
     "data": {
      "text/plain": [
       "array(['Star', 'Aurora', 'Nova'], dtype=object)"
      ]
     },
     "execution_count": 97,
     "metadata": {},
     "output_type": "execute_result"
    }
   ],
   "source": [
    "data_copy['loyalty_card'].unique()"
   ]
  },
  {
   "cell_type": "code",
   "execution_count": 98,
   "id": "91dde950",
   "metadata": {},
   "outputs": [
    {
     "data": {
      "text/plain": [
       "array(['Bachelor', 'College', 'Master', 'High School or Below', 'Doctor'],\n",
       "      dtype=object)"
      ]
     },
     "execution_count": 98,
     "metadata": {},
     "output_type": "execute_result"
    }
   ],
   "source": [
    "data_copy['education'].unique()"
   ]
  },
  {
   "cell_type": "code",
   "execution_count": 99,
   "id": "bd2d16d8",
   "metadata": {},
   "outputs": [
    {
     "data": {
      "text/plain": [
       "array([2016, 2014, 2013, 2012, 2015, 2018, 2017], dtype=int64)"
      ]
     },
     "execution_count": 99,
     "metadata": {},
     "output_type": "execute_result"
    }
   ],
   "source": [
    "data_copy['enrollment_year'].unique()"
   ]
  },
  {
   "cell_type": "code",
   "execution_count": 100,
   "id": "ea55fe6a",
   "metadata": {},
   "outputs": [
    {
     "data": {
      "text/plain": [
       "array([ 2,  3,  7, 10,  5,  6, 12,  1, 11,  8,  4,  9], dtype=int64)"
      ]
     },
     "execution_count": 100,
     "metadata": {},
     "output_type": "execute_result"
    }
   ],
   "source": [
    "data_copy['enrollment_month'].unique()"
   ]
  },
  {
   "cell_type": "code",
   "execution_count": 104,
   "id": "060dc6cb",
   "metadata": {},
   "outputs": [
    {
     "data": {
      "text/plain": [
       "array([   0., 2018., 2015., 2017., 2014., 2016., 2013.])"
      ]
     },
     "execution_count": 104,
     "metadata": {},
     "output_type": "execute_result"
    }
   ],
   "source": [
    "data_copy['cancellation_year'].unique()"
   ]
  },
  {
   "cell_type": "code",
   "execution_count": 106,
   "id": "39337b61",
   "metadata": {},
   "outputs": [
    {
     "data": {
      "text/plain": [
       "array([   0, 2018, 2015, 2017, 2014, 2016, 2013])"
      ]
     },
     "execution_count": 106,
     "metadata": {},
     "output_type": "execute_result"
    }
   ],
   "source": [
    "data_copy['cancellation_year'] = data_copy['cancellation_year'].astype(int)\n",
    "data_copy['cancellation_year'].unique()"
   ]
  },
  {
   "cell_type": "code",
   "execution_count": 107,
   "id": "6c3d8a97",
   "metadata": {},
   "outputs": [
    {
     "data": {
      "text/plain": [
       "array([ 0.,  1., 12.,  4.,  2.,  7., 11.,  5.,  6., 10.,  8.,  9.,  3.])"
      ]
     },
     "execution_count": 107,
     "metadata": {},
     "output_type": "execute_result"
    }
   ],
   "source": [
    "data_copy['cancellation_month'].unique()"
   ]
  },
  {
   "cell_type": "code",
   "execution_count": 108,
   "id": "666cb23b",
   "metadata": {},
   "outputs": [],
   "source": [
    "data_copy['cancellation_month'] = data_copy['cancellation_month'].astype(int)"
   ]
  },
  {
   "cell_type": "code",
   "execution_count": 110,
   "id": "fb1f8fdc",
   "metadata": {},
   "outputs": [],
   "source": [
    "data_copy.to_excel(r'C:\\Users\\ADMIN\\Desktop\\projects\\Airline+Loyalty+Program\\Cleaned Airline Flight History.xlsx',index= False)"
   ]
  },
  {
   "cell_type": "code",
   "execution_count": null,
   "id": "3dc65257",
   "metadata": {},
   "outputs": [],
   "source": []
  }
 ],
 "metadata": {
  "kernelspec": {
   "display_name": "Python 3 (ipykernel)",
   "language": "python",
   "name": "python3"
  },
  "language_info": {
   "codemirror_mode": {
    "name": "ipython",
    "version": 3
   },
   "file_extension": ".py",
   "mimetype": "text/x-python",
   "name": "python",
   "nbconvert_exporter": "python",
   "pygments_lexer": "ipython3",
   "version": "3.12.3"
  },
  "widgets": {
   "application/vnd.jupyter.widget-state+json": {
    "state": {},
    "version_major": 2,
    "version_minor": 0
   }
  }
 },
 "nbformat": 4,
 "nbformat_minor": 5
}
